{
 "cells": [
  {
   "cell_type": "code",
   "execution_count": 1,
   "metadata": {},
   "outputs": [],
   "source": [
    "# Modified by Hoik Jang   Last Modified :  2023/08/01"
   ]
  },
  {
   "cell_type": "code",
   "execution_count": 1,
   "metadata": {},
   "outputs": [],
   "source": [
    "####################################################################################################\n",
    "###### Import Packages\n",
    "####################################################################################################\n",
    "\n",
    "import os\n",
    "import warnings\n",
    "import pickle\n",
    "import numpy as np\n",
    "import torch\n",
    "import time\n",
    "warnings.filterwarnings(\"ignore\")  # avoid printing out absolute paths\n",
    "# os.chdir(\"../../..\")\n",
    "import lightning.pytorch as pl\n",
    "from lightning.pytorch.callbacks import EarlyStopping, LearningRateMonitor\n",
    "from lightning.pytorch.loggers import TensorBoardLogger\n",
    "import pandas as pd\n",
    "from lightning.pytorch.tuner import Tuner\n",
    "from pytorch_forecasting import Baseline, TemporalFusionTransformer, TimeSeriesDataSet\n",
    "from pytorch_forecasting.data import GroupNormalizer\n",
    "from pytorch_forecasting.metrics import QuantileLoss, RMSE\n",
    "from pytorch_forecasting.models.temporal_fusion_transformer.tuning import optimize_hyperparameters\n",
    "\n",
    "\n",
    "import gc\n",
    "import holoviews as hv\n",
    "from holoviews import opts\n",
    "hv.extension('matplotlib')"
   ]
  },
  {
   "cell_type": "code",
   "execution_count": null,
   "metadata": {},
   "outputs": [],
   "source": [
    "####################################################################################################\n",
    "###### Model Labeling\n",
    "####################################################################################################\n",
    "\n",
    "start_model_time      = time.time()\n",
    "model_type            = 'tft_1hour_sum_light'\n",
    "model_type_ver        = 'v1'\n",
    "time_interval         = '1hour'\n",
    "accelerator           = \"gpu\"\n",
    "seed                  = 529\n",
    "batch_size            = 128  # set this between 32 to 128\n",
    "max_epochs            = 500\n",
    "patience              = 20\n",
    "max_encoder_length    = 480  #val과 train의 차이값\n",
    "max_prediction_length = 24\n",
    "time_split            = '2023060100'\n",
    "pl.seed_everything(seed)"
   ]
  },
  {
   "cell_type": "code",
   "execution_count": 3,
   "metadata": {},
   "outputs": [],
   "source": [
    "####################################################################################################\n",
    "###### Load Data\n",
    "####################################################################################################\n",
    "\n",
    "start_model_time              = time.time()\n",
    "df_data                       = pd.read_pickle(\"base_mart_busanjin_full_build.pkl\")\n",
    "df_data['dayofweek']          = df_data['dayofweek'].astype(str)\n",
    "df_data['holiday']            = df_data['holiday'].astype(str)\n",
    "df_data= df_data.drop(columns = ['id','lt_x','lt_y','rb_x','rb_y','lat_label','lng_label','date'])\n",
    "df_data['cust_id_idx']        = df_data['cust_id'].factorize()[0]\n",
    "df_data_input                 = df_data.loc[df_data['datetime']<=time_split]\n"
   ]
  },
  {
   "cell_type": "code",
   "execution_count": 22,
   "metadata": {},
   "outputs": [],
   "source": [
    "####################################################################################################\n",
    "###### Create Dataset and Dataloaders\n",
    "####################################################################################################\n",
    "\n",
    "\n",
    "training_cutoff       = df_data_input[\"time_step\"].max() - max_prediction_length\n",
    "\n",
    "training              = TimeSeriesDataSet(\n",
    "     df_data_input[lambda x: x.time_step <= training_cutoff]\n",
    "    ,time_idx              = \"time_step\"\n",
    "    ,target                = \"build_sum_count\"\n",
    "    ,group_ids             = [\"cust_id_idx\"]\n",
    "    ,min_encoder_length    = max_encoder_length // 2  # keep encoder length long (as it is in the validation set)\n",
    "    ,max_encoder_length    = max_encoder_length\n",
    "    ,min_prediction_length = 1\n",
    "    ,max_prediction_length = max_prediction_length\n",
    "\n",
    "   \n",
    "    #범주형 변수\n",
    "    #시간이 지나도 변하지 않는 범주형 변수(제품카테고리 등)\n",
    "    #static_categoricals=[\"id\"],\n",
    "    \n",
    "    #시간이 지나도 변하지 않는 연속 변수 목록\n",
    "    #static_reals=[\"avg_population_2017\", \"avg_yearly_household_income_2017\"],\n",
    "    \n",
    "    #미래에 알려져있는 카테고리 변수(이벤트성 변수)\n",
    "    ,time_varying_known_categoricals = [\"dayofweek\", \"holiday\",\"year\", \"month\", \"day\",\"hour\"]\n",
    "    \n",
    "    \n",
    "    # variable_groups (Dict[str, List[str]]): 이름을 데이터의 열 목록에 매핑하는 dic.\n",
    "    # 이름이 있어야 합니다.\n",
    "    # 범주형 또는 실제 클래스 인수에서 그룹별로 열을 인코딩하거나 확장할 수 있습니다.\n",
    "    # 이렇게 하면 범주형 변수를 효과적으로 결합할 수 있으며 범주형 변수가 다음과 같은 경우에 특히 유용합니다.\n",
    "    # 동시에 여러 값을 가질 수 있습니다. 중복될 수 있는 공휴일이 그 예입니다.\n",
    "    \n",
    "#     variable_groups = {\"special_days\": special_days},  # group of categorical variables can be treated as one variable\n",
    "    \n",
    "\n",
    "#     time_varying_known_reals (List[str]): 변경되는 연속 변수 목록\n",
    "#         시간과 미래에 알려짐(예: 제품의 가격이지만 제품의 수요는 아님)\n",
    "    ,time_varying_known_reals          = [\"time_step\", \"temp\", \"rainamount\",\"datetime\"]\n",
    "    ,time_varying_unknown_categoricals = []\n",
    "    \n",
    "    #미래에 알려지지 않는 변수를 입력하는 듯\n",
    "    ,time_varying_unknown_reals        = [\"build_sum_count\"]\n",
    "    \n",
    "    #정규화하기위핸 타겟 정의\n",
    "    ,target_normalizer                 = GroupNormalizer(groups=[\"cust_id_idx\"], transformation=None)  # use softplus and normalize by group\n",
    "    \n",
    "#     target_normalizer=pf.data.encoders.NaNLabelEncoder(),\n",
    "    ,add_relative_time_idx    = True\n",
    "    ,add_target_scales        = True\n",
    "    ,add_encoder_length       = True\n",
    "    ,allow_missing_timesteps  = True\n",
    ")\n",
    "\n",
    "# create validation set (predict=True) which means to predict the last max_prediction_length points in time\n",
    "# for each series\n",
    "validation                    = TimeSeriesDataSet.from_dataset(training, df_data_input, predict=True, stop_randomization=True)\n",
    "\n",
    "# create dataloaders for model\n",
    "\n",
    "train_dataloader              = training.to_dataloader(train=True, batch_size=batch_size, num_workers=0)\n",
    "val_dataloader                = validation.to_dataloader(train=False, batch_size=batch_size * 10, num_workers=0)"
   ]
  },
  {
   "cell_type": "code",
   "execution_count": 23,
   "metadata": {
    "scrolled": true
   },
   "outputs": [
    {
     "name": "stderr",
     "output_type": "stream",
     "text": [
      "LOCAL_RANK: 0 - CUDA_VISIBLE_DEVICES: [0]\n"
     ]
    },
    {
     "data": {
      "text/plain": [
       "tensor(218.5573, device='cuda:0')"
      ]
     },
     "execution_count": 23,
     "metadata": {},
     "output_type": "execute_result"
    }
   ],
   "source": [
    "####################################################################################################\n",
    "###### Baseline Prediction\n",
    "####################################################################################################\n",
    "\n",
    "# calculate baseline root mean squared error, i.e. predict next value as the last available value from the history\n",
    "baseline_predictions = Baseline().predict(val_dataloader, return_y=True)\n",
    "baseline_rmse        = RMSE()(baseline_predictions.output, baseline_predictions.y)"
   ]
  },
  {
   "cell_type": "code",
   "execution_count": 24,
   "metadata": {},
   "outputs": [
    {
     "name": "stderr",
     "output_type": "stream",
     "text": [
      "Global seed set to 42\n"
     ]
    },
    {
     "name": "stderr",
     "output_type": "stream",
     "text": [
      "GPU available: True (cuda), used: True\n",
      "TPU available: False, using: 0 TPU cores\n",
      "IPU available: False, using: 0 IPUs\n",
      "HPU available: False, using: 0 HPUs\n"
     ]
    },
    {
     "name": "stdout",
     "output_type": "stream",
     "text": [
      "Number of parameters in network: 11.1k\n"
     ]
    }
   ],
   "source": [
    "####################################################################################################\n",
    "###### Find optimal learning rate\n",
    "####################################################################################################\n",
    "\n",
    "# configure network and trainer\n",
    "\n",
    "trainer = pl.Trainer(\n",
    "     accelerator       = accelerator\n",
    "    # clipping gradients is a hyperparameter and important to prevent divergance\n",
    "    # of the gradient for recurrent neural networks\n",
    "    ,gradient_clip_val = 0.1,\n",
    ")\n",
    "\n",
    "\n",
    "tft = TemporalFusionTransformer.from_dataset(\n",
    "     training\n",
    "    # not meaningful for finding the learning rate but otherwise very important\n",
    "    ,learning_rate=0.03\n",
    "    ,hidden_size=8  # most important hyperparameter apart from learning rate\n",
    "    # number of attention heads. Set to up to 4 for large datasets\n",
    "    ,attention_head_size=1\n",
    "    ,dropout=0.1  # between 0.1 and 0.3 are good values\n",
    "    ,hidden_continuous_size=8  # set to <= hidden_size\n",
    "    ,loss=QuantileLoss()\n",
    "    ,optimizer=\"Ranger\"\n",
    "    # reduce learning rate if no improvement in validation loss after x epochs\n",
    "    # reduce_on_plateau_patience=1000,\n",
    ")\n",
    "print(f\"Number of parameters in network: {tft.size()/1e3:.1f}k\")\n"
   ]
  },
  {
   "cell_type": "code",
   "execution_count": 25,
   "metadata": {},
   "outputs": [
    {
     "name": "stderr",
     "output_type": "stream",
     "text": [
      "LOCAL_RANK: 0 - CUDA_VISIBLE_DEVICES: [0]\n",
      "Finding best initial lr: 100%|██████████| 100/100 [00:31<00:00,  3.44it/s]`Trainer.fit` stopped: `max_steps=100` reached.\n",
      "Finding best initial lr: 100%|██████████| 100/100 [00:31<00:00,  3.22it/s]\n",
      "Learning rate set to 0.06760829753919811\n",
      "Restoring states from the checkpoint path at /mnt/d/work/pinetree/사고예측/유동인구/workspace/.lr_find_e0739a44-3675-4825-88fd-a4987523aad4.ckpt\n",
      "Restored all states from the checkpoint at /mnt/d/work/pinetree/사고예측/유동인구/workspace/.lr_find_e0739a44-3675-4825-88fd-a4987523aad4.ckpt\n"
     ]
    },
    {
     "name": "stdout",
     "output_type": "stream",
     "text": [
      "suggested learning rate: 0.06760829753919811\n"
     ]
    },
    {
     "data": {
      "image/png": "[encoded data removed]",
      "text/plain": [
       "<Figure size 640x480 with 1 Axes>"
      ]
     },
     "metadata": {},
     "output_type": "display_data"
    }
   ],
   "source": [
    "# find optimal learning rate\n",
    "\n",
    "\n",
    "res = Tuner(trainer).lr_find(\n",
    "    tft\n",
    "    ,train_dataloaders=train_dataloader\n",
    "    ,val_dataloaders=val_dataloader\n",
    "    ,max_lr=10.0\n",
    "    ,min_lr=1e-6\n",
    ")\n",
    "\n",
    "print(f\"suggested learning rate: {res.suggestion()}\")\n",
    "fig = res.plot(show=True, suggest=True)\n",
    "fig.show()"
   ]
  },
  {
   "cell_type": "code",
   "execution_count": 26,
   "metadata": {},
   "outputs": [
    {
     "name": "stderr",
     "output_type": "stream",
     "text": [
      "GPU available: True (cuda), used: True\n",
      "TPU available: False, using: 0 TPU cores\n",
      "IPU available: False, using: 0 IPUs\n",
      "HPU available: False, using: 0 HPUs\n"
     ]
    },
    {
     "name": "stdout",
     "output_type": "stream",
     "text": [
      "Number of parameters in network: 25.7k\n"
     ]
    }
   ],
   "source": [
    "####################################################################################################\n",
    "###### Model Configuration\n",
    "####################################################################################################\n",
    "\n",
    "# configure network and trainer\n",
    "early_stop_callback = EarlyStopping(monitor = \"val_loss\", min_delta = 1e-4, patience = patience, verbose = False, mode = \"min\")\n",
    "lr_logger           = LearningRateMonitor()  # log the learning rate\n",
    "logger              = TensorBoardLogger(\"lightning_logs\")  # logging results to a tensorboard\n",
    "\n",
    "trainer = pl.Trainer(\n",
    "     max_epochs           = max_epochs\n",
    "    ,accelerator          = accelerator\n",
    "    ,enable_model_summary = True\n",
    "    ,gradient_clip_val    = 0.01\n",
    "    ,limit_train_batches  = 10  # coment in for training, running valiation every 30 batches\n",
    "    # fast_dev_run=True,  # comment in to check that networkor dataset has no serious bugs\n",
    "    ,callbacks            = [lr_logger, early_stop_callback]\n",
    "    ,logger               = logger\n",
    ")\n",
    "\n",
    "tft = TemporalFusionTransformer.from_dataset(\n",
    "     training\n",
    "    ,learning_rate              = res.suggestion()\n",
    "    ,hidden_size                = 16\n",
    "    ,attention_head_size        = 2\n",
    "    ,dropout                    = 0.1\n",
    "    ,hidden_continuous_size     = 8\n",
    "    ,loss                       = QuantileLoss()\n",
    "    ,log_interval               = 10  # uncomment for learning rate finder and otherwise, e.g. to 10 for logging every 10 batches\n",
    "    ,optimizer                  = \"Ranger\"\n",
    "    ,reduce_on_plateau_patience = 4\n",
    ")\n",
    "print(f\"Number of parameters in network: {tft.size()/1e3:.1f}k\")"
   ]
  },
  {
   "cell_type": "code",
   "execution_count": 27,
   "metadata": {},
   "outputs": [
    {
     "name": "stderr",
     "output_type": "stream",
     "text": [
      "LOCAL_RANK: 0 - CUDA_VISIBLE_DEVICES: [0]\n",
      "\n",
      "   | Name                               | Type                            | Params\n",
      "----------------------------------------------------------------------------------------\n",
      "0  | loss                               | QuantileLoss                    | 0     \n",
      "1  | logging_metrics                    | ModuleList                      | 0     \n",
      "2  | input_embeddings                   | MultiEmbedding                  | 604   \n",
      "3  | prescalers                         | ModuleDict                      | 144   \n",
      "4  | static_variable_selection          | VariableSelectionNetwork        | 1.7 K \n",
      "5  | encoder_variable_selection         | VariableSelectionNetwork        | 5.1 K \n",
      "6  | decoder_variable_selection         | VariableSelectionNetwork        | 4.3 K \n",
      "7  | static_context_variable_selection  | GatedResidualNetwork            | 1.1 K \n",
      "8  | static_context_initial_hidden_lstm | GatedResidualNetwork            | 1.1 K \n",
      "9  | static_context_initial_cell_lstm   | GatedResidualNetwork            | 1.1 K \n",
      "10 | static_context_enrichment          | GatedResidualNetwork            | 1.1 K \n",
      "11 | lstm_encoder                       | LSTM                            | 2.2 K \n",
      "12 | lstm_decoder                       | LSTM                            | 2.2 K \n",
      "13 | post_lstm_gate_encoder             | GatedLinearUnit                 | 544   \n",
      "14 | post_lstm_add_norm_encoder         | AddNorm                         | 32    \n",
      "15 | static_enrichment                  | GatedResidualNetwork            | 1.4 K \n",
      "16 | multihead_attn                     | InterpretableMultiHeadAttention | 808   \n",
      "17 | post_attn_gate_norm                | GateAddNorm                     | 576   \n",
      "18 | pos_wise_ff                        | GatedResidualNetwork            | 1.1 K \n",
      "19 | pre_output_gate_norm               | GateAddNorm                     | 576   \n",
      "20 | output_layer                       | Linear                          | 119   \n",
      "----------------------------------------------------------------------------------------\n",
      "25.7 K    Trainable params\n",
      "0         Non-trainable params\n",
      "25.7 K    Total params\n",
      "0.103     Total estimated model params size (MB)\n"
     ]
    },
    {
     "name": "stdout",
     "output_type": "stream",
     "text": [
      "Epoch 103: 100%|██████████| 10/10 [00:08<00:00,  1.23it/s, v_num=40, train_loss_step=48.60, val_loss=19.40, train_loss_epoch=36.60]\n"
     ]
    }
   ],
   "source": [
    "####################################################################################################\n",
    "###### Model Training\n",
    "####################################################################################################\n",
    "start_train_time              = time.time()\n",
    "trainer.fit(\n",
    "     tft\n",
    "    ,train_dataloaders=train_dataloader\n",
    "    ,val_dataloaders=val_dataloader\n",
    ")\n",
    "end_train_time                = time.time()"
   ]
  },
  {
   "cell_type": "code",
   "execution_count": 28,
   "metadata": {},
   "outputs": [],
   "source": [
    "####################################################################################################\n",
    "###### Model Validation\n",
    "####################################################################################################\n",
    "\n",
    "# load the best model according to the validation loss\n",
    "# (given that we use early stopping, this is not necessarily the last epoch)\n",
    "best_model_path = trainer.checkpoint_callback.best_model_path\n",
    "best_tft        = TemporalFusionTransformer.load_from_checkpoint(best_model_path)\n",
    "# calcualte mean absolute error on validation set\n",
    "predictions     = best_tft.predict(val_dataloader, return_y=True, trainer_kwargs=dict(accelerator=\"gpu\"), return_x=True)\n",
    "val_rmse        = RMSE()(predictions.output, predictions.y)"
   ]
  },
  {
   "cell_type": "code",
   "execution_count": 30,
   "metadata": {},
   "outputs": [],
   "source": [
    "####################################################################################################\n",
    "###### Model Prediction\n",
    "####################################################################################################\n",
    "\n",
    "# select last 60 months from data (max_encoder_length is 24)\n",
    "encoder_data        = df_data_input[lambda x: x.time_step > x.time_step.max() - max_encoder_length]\n",
    "decoder_start       = encoder_data['time_step'].max() + 1\n",
    "decoder_end         = encoder_data['time_step'].max() + max_prediction_length\n",
    "decoder_data        = df_data[(df_data['time_step'] >= decoder_start) & (df_data['time_step'] <= decoder_end)]\n",
    "new_prediction_data = pd.concat([encoder_data, decoder_data], ignore_index=True)\n",
    "new_raw_predictions = best_tft.predict(new_prediction_data, mode=\"raw\", return_x=True)\n",
    "end_modeling_time   = time.time()\n",
    "for idx in range(10):  # plot 10 examples\n",
    "    best_tft.plot_prediction(new_raw_predictions.x, new_raw_predictions.output, idx=idx, show_future_observed=False)"
   ]
  },
  {
   "cell_type": "code",
   "execution_count": 34,
   "metadata": {},
   "outputs": [],
   "source": [
    "####################################################################################################\n",
    "###### Result Data Processing\n",
    "####################################################################################################\n",
    "\n",
    "real_encoder_lengths   = new_raw_predictions.x['encoder_lengths'].squeeze().tolist()\n",
    "real_groups            = new_raw_predictions.x['groups'].squeeze().tolist()\n",
    "real_output            = new_raw_predictions.output['prediction'].squeeze().tolist()\n",
    "real_result            = pd.DataFrame({'encoder_lengths' : real_encoder_lengths, 'groups' : real_groups, 'output' : real_output})\n",
    "real_result            = pd.concat([real_result, pd.DataFrame(real_result['output'].apply(pd.Series).values)], axis=1).drop('output', axis = 1)\n",
    "stacked_df             = new_raw_predictions.output['prediction'].squeeze().tolist()\n",
    "stacked_df             = pd.DataFrame(stacked_df)\n",
    "stacked_df             = stacked_df.explode(stacked_df.columns.tolist()).reset_index().rename({'index' : 'cust_id_idx'}, axis=1)\n",
    "stacked_df['quantile'] = stacked_df.groupby('cust_id_idx').cumcount() + 1"
   ]
  },
  {
   "cell_type": "code",
   "execution_count": 38,
   "metadata": {},
   "outputs": [],
   "source": [
    "####################################################################################################\n",
    "###### Result Data Transformation for Visualization\n",
    "####################################################################################################\n",
    "\n",
    "df_tft_result = pd.melt(stacked_df,id_vars=['cust_id_idx','quantile'],var_name=f'time_step_{time_interval}',value_name='sum_count')\n",
    "with open(f'{model_type}_{model_type_ver}_pred.pkl', 'wb') as f:\n",
    "    pickle.dump(df_tft_result, f)\n"
   ]
  },
  {
   "cell_type": "code",
   "execution_count": null,
   "metadata": {},
   "outputs": [],
   "source": [
    "####################################################################################################\n",
    "###### Result Record Track \n",
    "####################################################################################################\n",
    "list_test_cmprsn.append([model_type\n",
    "                        ,model_type_ver\n",
    "                        ,baseline_rmse\n",
    "                        ,val_rmse\n",
    "                        ,np.mean(msleloss)\n",
    "                        ,time_interval\n",
    "                        ,seed\n",
    "                        ,max_encoder_length\n",
    "                        ,max_prediction_length\n",
    "                        ,batch_size\n",
    "                        ,max_epochs\n",
    "                        ,patience\n",
    "                        ,res.suggestion()\n",
    "                        ,time_split\n",
    "                        ,(end_train_time-start_train_time)\n",
    "                        ,(end_model_time-start_model_time)])"
   ]
  },
  {
   "cell_type": "code",
   "execution_count": null,
   "metadata": {},
   "outputs": [],
   "source": [
    "####################################################################################################\n",
    "###### Result Data Visualization\n",
    "####################################################################################################\n",
    "\n",
    "df_pred_tft_base                 = pd.read_pickle(f'{model_type}_{model_type_ver}_pred.pkl')\n",
    "df_pred_tft                      = df_pred_tft_base.loc[df_pred_tft_base['quantile']==4]"
   ]
  },
  {
   "cell_type": "code",
   "execution_count": null,
   "metadata": {},
   "outputs": [],
   "source": [
    "time_interval                             = '1hour'\n",
    "aggr                                      = 'sum'\n",
    "model_type                                = time_interval+'_'+aggr + '_' + 'light' + '_' + 'build'\n",
    "time_split                                = '2023060100'\n",
    "df_data                                   = pd.read_pickle(f'base_input_fltpop_{model_type}.pkl')[['datetime',f'time_step_{time_interval}','lat_label','lng_label',f'build_sum_count','cust_id','cust_id_idx']]\n",
    "time_split_idx                            = int(df_data.loc[(df_data['datetime']==time_split)][f'time_step_{time_interval}'].drop_duplicates())\n",
    "df_latlng_table                           = df_data[['lat_label','lng_label','cust_id','cust_id_idx']].drop_duplicates()\n",
    "\n",
    "df_pred_tft_sub                           = df_pred_tft.merge(df_latlng_table)[[f'time_step_{time_interval}','lat_label','lng_label',f'sum_count']].sort_values(by=[f'time_step_{time_interval}','lat_label','lng_label'])\n",
    "\n",
    "df_data_sub                               = df_data.loc[(df_data[f'time_step_{time_interval}']>=time_split_idx) & (df_data[f'time_step_{time_interval}']<time_split_idx+len(df_pred_tft[f'time_step_{time_interval}'].drop_duplicates())) ]\n",
    "df_data_sub[f'time_step_{time_interval}'] = df_data_sub[f'time_step_{time_interval}'] - time_split_idx\n",
    "df_data_sub                               = df_data_sub[[f'time_step_{time_interval}','lat_label','lng_label',f'build_sum_count']].drop_duplicates().sort_values(by=[f'time_step_{time_interval}','lat_label','lng_label'])\n",
    "\n",
    "length = len(df_data_sub[f'time_step_{time_interval}'].drop_duplicates())\n",
    "height = len(df_data_sub['lat_label'].drop_duplicates())\n",
    "width  = len(df_data_sub['lng_label'].drop_duplicates())\n",
    "\n",
    "np_pred_plot   = np.full((length, height, width,1),0)\n",
    "np_true_plot   = np.full((length, height, width,1),0)\n",
    "np_true        = df_data_sub.drop_duplicates().to_numpy()\n",
    "np_pred        = df_pred_tft_sub.drop_duplicates().to_numpy()\n",
    "\n",
    "for i in range(np_true.shape[0]):\n",
    "    time_idx1   = np_true[i][0]\n",
    "    lat_idx1    = np_true[i][1]\n",
    "    lng_idx1    = np_true[i][2]\n",
    "    fltpop_val1 = np_true[i][3]\n",
    "    np_true_plot[int(time_idx1),int(lat_idx1),int(lng_idx1),:] = fltpop_val1\n",
    "\n",
    "for i in range(np_pred.shape[0]):\n",
    "    time_idx2   = np_pred[i][0]\n",
    "    lat_idx2    = np_pred[i][1]\n",
    "    lng_idx2    = np_pred[i][2]\n",
    "    fltpop_val2 = np_pred[i][3]\n",
    "    np_pred_plot[int(time_idx2),int(lat_idx2),int(lng_idx2),:] = fltpop_val2\n",
    "\n",
    "# with open(f'base_input_fltpop_{model_type}.npy', 'wb') as f:\n",
    "#     pickle.dump(np_true_plot, f)\n",
    "\n",
    "# with open(f'base_input_fltpop_{model_type}.npy', 'wb') as f:\n",
    "#     pickle.dump(np_pred_plot, f)\n",
    "    \n",
    "# # 메모리 해제\n",
    "# del df_data_sub, np_base_fltpop, np_base_input_fltpop\n",
    "# gc.collect()    "
   ]
  },
  {
   "cell_type": "code",
   "execution_count": null,
   "metadata": {},
   "outputs": [],
   "source": [
    "####################################################################################################\n",
    "###### TFT 모델 Test, Prediction 비교 Inflow T+0\n",
    "####################################################################################################\n",
    "y_test_inflow = hv.Dataset(\n",
    "                           (range(np_true_plot.shape[1])\n",
    "                           ,range(np_true_plot.shape[2])\n",
    "                           ,range(np_true_plot.shape[0])\n",
    "                           ,np.transpose(np_true_plot[:,:,:,0],(0,2,1))\n",
    "                           )\n",
    "                           ,['Width', 'Height', 'Time']\n",
    "                           ,'Value'\n",
    "                           )\n",
    "\n",
    "y_pred_inflow = hv.Dataset(\n",
    "                            (range(np_pred_plot.shape[1])\n",
    "                            ,range(np_pred_plot.shape[2])\n",
    "                            ,range(np_pred_plot.shape[0])\n",
    "                            ,np.transpose(np_pred_plot[:,:,:,0],(0,2,1))\n",
    "                            )\n",
    "                            ,['Width', 'Height', 'Time']\n",
    "                            ,'Value'\n",
    "                           )\n",
    "                            \n",
    "((y_test_inflow.to(hv.Image,['Width','Height'],'Value',['Time']).opts(xticks = 7, yticks = 6)) \n",
    "+ (y_pred_inflow.to(hv.Image,['Width','Height'],'Value',['Time']).opts(colorbar = True,xticks = 7, yticks = 6)))"
   ]
  }
 ],
 "metadata": {
  "kernelspec": {
   "display_name": "Python 3 (ipykernel)",
   "language": "python",
   "name": "python3"
  },
  "language_info": {
   "codemirror_mode": {
    "name": "ipython",
    "version": 3
   },
   "file_extension": ".py",
   "mimetype": "text/x-python",
   "name": "python",
   "nbconvert_exporter": "python",
   "pygments_lexer": "ipython3",
   "version": "3.10.9"
  }
 },
 "nbformat": 4,
 "nbformat_minor": 4
}
